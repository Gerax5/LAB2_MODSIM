{
 "cells": [
  {
   "cell_type": "code",
   "execution_count": 8,
   "id": "09f4615d",
   "metadata": {},
   "outputs": [],
   "source": [
    "from NewtonRaphson import newton_raphson\n",
    "from Biseccion import biseccion"
   ]
  },
  {
   "cell_type": "code",
   "execution_count": 3,
   "id": "c078732b",
   "metadata": {},
   "outputs": [],
   "source": [
    "def f(x):\n",
    "    return x**3 - 2*x + 2\n",
    "\n",
    "def df(x):\n",
    "    return 3*x**2 - 2"
   ]
  },
  {
   "cell_type": "code",
   "execution_count": 4,
   "id": "4369bae8",
   "metadata": {},
   "outputs": [
    {
     "name": "stdout",
     "output_type": "stream",
     "text": [
      "iter=0, x=1.0, f(x)=1.0, errx=1.0\n",
      "iter=1, x=0.0, f(x)=2.0, errx=1.0\n",
      "iter=2, x=1.0, f(x)=1.0, errx=1.0\n",
      "iter=3, x=0.0, f(x)=2.0, errx=1.0\n",
      "iter=4, x=1.0, f(x)=1.0, errx=1.0\n",
      "iter=5, x=0.0, f(x)=2.0, errx=1.0\n",
      "iter=6, x=1.0, f(x)=1.0, errx=1.0\n",
      "iter=7, x=0.0, f(x)=2.0, errx=1.0\n",
      "iter=8, x=1.0, f(x)=1.0, errx=1.0\n",
      "iter=9, x=0.0, f(x)=2.0, errx=1.0\n",
      "iter=10, x=1.0, f(x)=1.0, errx=1.0\n",
      "iter=11, x=0.0, f(x)=2.0, errx=1.0\n",
      "iter=12, x=1.0, f(x)=1.0, errx=1.0\n",
      "iter=13, x=0.0, f(x)=2.0, errx=1.0\n",
      "iter=14, x=1.0, f(x)=1.0, errx=1.0\n",
      "iter=15, x=0.0, f(x)=2.0, errx=1.0\n",
      "iter=16, x=1.0, f(x)=1.0, errx=1.0\n",
      "iter=17, x=0.0, f(x)=2.0, errx=1.0\n",
      "iter=18, x=1.0, f(x)=1.0, errx=1.0\n",
      "iter=19, x=0.0, f(x)=2.0, errx=1.0\n",
      "iter=20, x=1.0, f(x)=1.0, errx=1.0\n",
      "iter=21, x=0.0, f(x)=2.0, errx=1.0\n",
      "iter=22, x=1.0, f(x)=1.0, errx=1.0\n",
      "iter=23, x=0.0, f(x)=2.0, errx=1.0\n",
      "iter=24, x=1.0, f(x)=1.0, errx=1.0\n",
      "iter=25, x=0.0, f(x)=2.0, errx=1.0\n",
      "iter=26, x=1.0, f(x)=1.0, errx=1.0\n",
      "iter=27, x=0.0, f(x)=2.0, errx=1.0\n",
      "iter=28, x=1.0, f(x)=1.0, errx=1.0\n",
      "iter=29, x=0.0, f(x)=2.0, errx=1.0\n",
      "iter=30, x=1.0, f(x)=1.0, errx=1.0\n",
      "iter=31, x=0.0, f(x)=2.0, errx=1.0\n",
      "iter=32, x=1.0, f(x)=1.0, errx=1.0\n",
      "iter=33, x=0.0, f(x)=2.0, errx=1.0\n",
      "iter=34, x=1.0, f(x)=1.0, errx=1.0\n",
      "iter=35, x=0.0, f(x)=2.0, errx=1.0\n",
      "iter=36, x=1.0, f(x)=1.0, errx=1.0\n",
      "iter=37, x=0.0, f(x)=2.0, errx=1.0\n",
      "iter=38, x=1.0, f(x)=1.0, errx=1.0\n",
      "iter=39, x=0.0, f(x)=2.0, errx=1.0\n",
      "iter=40, x=1.0, f(x)=1.0, errx=1.0\n",
      "iter=41, x=0.0, f(x)=2.0, errx=1.0\n",
      "iter=42, x=1.0, f(x)=1.0, errx=1.0\n",
      "iter=43, x=0.0, f(x)=2.0, errx=1.0\n",
      "iter=44, x=1.0, f(x)=1.0, errx=1.0\n",
      "iter=45, x=0.0, f(x)=2.0, errx=1.0\n",
      "iter=46, x=1.0, f(x)=1.0, errx=1.0\n",
      "iter=47, x=0.0, f(x)=2.0, errx=1.0\n",
      "iter=48, x=1.0, f(x)=1.0, errx=1.0\n",
      "iter=49, x=0.0, f(x)=2.0, errx=1.0\n",
      "iter=50, x=1.0, f(x)=1.0, errx=1.0\n",
      "iter=51, x=0.0, f(x)=2.0, errx=1.0\n",
      "iter=52, x=1.0, f(x)=1.0, errx=1.0\n",
      "iter=53, x=0.0, f(x)=2.0, errx=1.0\n",
      "iter=54, x=1.0, f(x)=1.0, errx=1.0\n",
      "iter=55, x=0.0, f(x)=2.0, errx=1.0\n",
      "iter=56, x=1.0, f(x)=1.0, errx=1.0\n",
      "iter=57, x=0.0, f(x)=2.0, errx=1.0\n",
      "iter=58, x=1.0, f(x)=1.0, errx=1.0\n",
      "iter=59, x=0.0, f(x)=2.0, errx=1.0\n",
      "iter=60, x=1.0, f(x)=1.0, errx=1.0\n",
      "iter=61, x=0.0, f(x)=2.0, errx=1.0\n",
      "iter=62, x=1.0, f(x)=1.0, errx=1.0\n",
      "iter=63, x=0.0, f(x)=2.0, errx=1.0\n",
      "iter=64, x=1.0, f(x)=1.0, errx=1.0\n",
      "iter=65, x=0.0, f(x)=2.0, errx=1.0\n",
      "iter=66, x=1.0, f(x)=1.0, errx=1.0\n",
      "iter=67, x=0.0, f(x)=2.0, errx=1.0\n",
      "iter=68, x=1.0, f(x)=1.0, errx=1.0\n",
      "iter=69, x=0.0, f(x)=2.0, errx=1.0\n",
      "iter=70, x=1.0, f(x)=1.0, errx=1.0\n",
      "iter=71, x=0.0, f(x)=2.0, errx=1.0\n",
      "iter=72, x=1.0, f(x)=1.0, errx=1.0\n",
      "iter=73, x=0.0, f(x)=2.0, errx=1.0\n",
      "iter=74, x=1.0, f(x)=1.0, errx=1.0\n",
      "iter=75, x=0.0, f(x)=2.0, errx=1.0\n",
      "iter=76, x=1.0, f(x)=1.0, errx=1.0\n",
      "iter=77, x=0.0, f(x)=2.0, errx=1.0\n",
      "iter=78, x=1.0, f(x)=1.0, errx=1.0\n",
      "iter=79, x=0.0, f(x)=2.0, errx=1.0\n",
      "iter=80, x=1.0, f(x)=1.0, errx=1.0\n",
      "iter=81, x=0.0, f(x)=2.0, errx=1.0\n",
      "iter=82, x=1.0, f(x)=1.0, errx=1.0\n",
      "iter=83, x=0.0, f(x)=2.0, errx=1.0\n",
      "iter=84, x=1.0, f(x)=1.0, errx=1.0\n",
      "iter=85, x=0.0, f(x)=2.0, errx=1.0\n",
      "iter=86, x=1.0, f(x)=1.0, errx=1.0\n",
      "iter=87, x=0.0, f(x)=2.0, errx=1.0\n",
      "iter=88, x=1.0, f(x)=1.0, errx=1.0\n",
      "iter=89, x=0.0, f(x)=2.0, errx=1.0\n",
      "iter=90, x=1.0, f(x)=1.0, errx=1.0\n",
      "iter=91, x=0.0, f(x)=2.0, errx=1.0\n",
      "iter=92, x=1.0, f(x)=1.0, errx=1.0\n",
      "iter=93, x=0.0, f(x)=2.0, errx=1.0\n",
      "iter=94, x=1.0, f(x)=1.0, errx=1.0\n",
      "iter=95, x=0.0, f(x)=2.0, errx=1.0\n",
      "iter=96, x=1.0, f(x)=1.0, errx=1.0\n",
      "iter=97, x=0.0, f(x)=2.0, errx=1.0\n",
      "iter=98, x=1.0, f(x)=1.0, errx=1.0\n",
      "iter=99, x=0.0, f(x)=2.0, errx=1.0\n"
     ]
    }
   ],
   "source": [
    "x1, f1, z, errx, erry, iters, conv = newton_raphson(f,df,0,tol = 1e-7, maxIter = 100, prt=1)"
   ]
  },
  {
   "cell_type": "code",
   "execution_count": 6,
   "id": "4fe03c5a",
   "metadata": {},
   "outputs": [
    {
     "name": "stdout",
     "output_type": "stream",
     "text": [
      "x1 = 0.0\n",
      " f1 = 2.0\n",
      " z = [0, 1.0, 0.0, 1.0, 0.0, 1.0, 0.0, 1.0, 0.0, 1.0, 0.0, 1.0, 0.0, 1.0, 0.0, 1.0, 0.0, 1.0, 0.0, 1.0, 0.0, 1.0, 0.0, 1.0, 0.0, 1.0, 0.0, 1.0, 0.0, 1.0, 0.0, 1.0, 0.0, 1.0, 0.0, 1.0, 0.0, 1.0, 0.0, 1.0, 0.0, 1.0, 0.0, 1.0, 0.0, 1.0, 0.0, 1.0, 0.0, 1.0, 0.0, 1.0, 0.0, 1.0, 0.0, 1.0, 0.0, 1.0, 0.0, 1.0, 0.0, 1.0, 0.0, 1.0, 0.0, 1.0, 0.0, 1.0, 0.0, 1.0, 0.0, 1.0, 0.0, 1.0, 0.0, 1.0, 0.0, 1.0, 0.0, 1.0, 0.0, 1.0, 0.0, 1.0, 0.0, 1.0, 0.0, 1.0, 0.0, 1.0, 0.0, 1.0, 0.0, 1.0, 0.0, 1.0, 0.0, 1.0, 0.0, 1.0, 0.0]\n",
      " errx = 1.0\n",
      " erry = 1.0\n",
      " iters = 100\n",
      " conv = 0\n"
     ]
    }
   ],
   "source": [
    "print(f\"x1 = {x1}\\n f1 = {f1}\\n z = {z}\\n errx = {errx}\\n erry = {erry}\\n iters = {iters}\\n conv = {conv}\")"
   ]
  },
  {
   "cell_type": "markdown",
   "id": "82538cdc",
   "metadata": {},
   "source": [
    "El metodo no converge y entra en un ciclo infinito de periodo 2. Nunca converge por el calculo, lo que ocurre es que el algoritmo depende mucho de su punto inicial y como x = 0, la direccion inicial lleva a x= 1 y desde ahi, regresa a x= 0 entrando en un bucle. Posiblemente la derivida es pequela o cambia de signo ceraca del punto inicial o el punto inicial no es lo suficientemente cerca de la raiz que se quiere encontrar."
   ]
  },
  {
   "cell_type": "markdown",
   "id": "32553e2e",
   "metadata": {},
   "source": [
    "Podriamos apoyarnos de otro metodo para acercarnos a la raiz, pero sin tantas iteraciones, primero vamos a hacer biseccion para acercarnos a un numero que sea lo suficientemente cerca del 0.\n",
    "Otra solucion seria graficar la funcion y colocar un numero el cual sea cercano a la raiz.\n",
    "\n",
    "La forma con los dos algoritmos es esta:"
   ]
  },
  {
   "cell_type": "code",
   "execution_count": 11,
   "id": "8489bb5e",
   "metadata": {},
   "outputs": [
    {
     "name": "stdout",
     "output_type": "stream",
     "text": [
      "iter = 0, z = -2.0, f(z) = -2.0\n",
      "iter = 1, z = -1.5, f(z) = 1.625\n",
      "iter = 2, z = -1.75, f(z) = 0.140625\n",
      "iter = 3, z = -1.875, f(z) = -0.841796875\n",
      "iter = 4, z = -1.8125, f(z) = -0.329345703125\n",
      "iter = 5, z = -1.78125, f(z) = -0.089141845703125\n"
     ]
    }
   ],
   "source": [
    "x, fx, z, iters, conv = biseccion(f, -3, -1, tol=1e-1, maxIter=100, prt=1)"
   ]
  },
  {
   "cell_type": "code",
   "execution_count": 10,
   "id": "02c4be58",
   "metadata": {},
   "outputs": [
    {
     "name": "stdout",
     "output_type": "stream",
     "text": [
      "Root: 0.0, f(x): 2.0, Zero: [-2.0, -1.5, -1.75, -1.875, -1.8125, -1.78125, -1.765625, -1.7734375, -1.76953125, -1.767578125, -1.7685546875, -1.76904296875, -1.769287109375, -1.7694091796875, -1.76934814453125, -1.769317626953125, -1.7693023681640625, -1.7692947387695312, -1.7692909240722656, -1.7692928314208984, -1.769291877746582, -1.7692923545837402], Error in x: 1.0, Error in y: 1.0, Iterations: 21, Convergence: 1\n"
     ]
    }
   ],
   "source": [
    "print(f\"Root: {x1}, f(x): {f1}, Zero: {z}, Error in x: {errx}, Error in y: {erry}, Iterations: {iters}, Convergence: {conv}\")"
   ]
  },
  {
   "cell_type": "markdown",
   "id": "db86dedf",
   "metadata": {},
   "source": [
    "Nuestro punto de referencia ahora para empezar con newton_raphson es el mejor z encontrado con el algoritmo de biseccion"
   ]
  },
  {
   "cell_type": "code",
   "execution_count": 12,
   "id": "bd1ebada",
   "metadata": {},
   "outputs": [
    {
     "name": "stdout",
     "output_type": "stream",
     "text": [
      "iter=0, x=-1.7693937524353813, f(x)=-0.0007495075375802962, errx=0.011856247564618672\n",
      "iter=1, x=-1.7692923616214213, f(x)=-5.4567576235342585e-08, errx=0.0001013908139599895\n"
     ]
    }
   ],
   "source": [
    "\n",
    "x1, f1, z, errx, erry, iters, conv = newton_raphson(f,df,-1.78125,tol = 1e-7, maxIter = 100, prt=1)"
   ]
  },
  {
   "cell_type": "markdown",
   "id": "3dc1eb58",
   "metadata": {},
   "source": [
    "Nos da un resultado bastante preciso. \n",
    "\n",
    "El otro metodo de graficarla aqui se puede ver que un numero cercano es -1"
   ]
  },
  {
   "cell_type": "code",
   "execution_count": 15,
   "id": "6ac6bc3e",
   "metadata": {},
   "outputs": [
    {
     "name": "stdout",
     "output_type": "stream",
     "text": [
      "iter=0, x=-4.0, f(x)=-54.0, errx=3.0\n",
      "iter=1, x=-2.8260869565217392, f(x)=-14.919125503410868, errx=1.1739130434782608\n",
      "iter=2, x=-2.1467190137392356, f(x)=-3.5995072936479247, errx=0.6793679427825037\n",
      "iter=3, x=-1.8423262771400926, f(x)=-0.5685088618057428, errx=0.304392736599143\n",
      "iter=4, x=-1.7728476364392378, f(x)=-0.02634488978133742, errx=0.06947864070085474\n",
      "iter=5, x=-1.7693013974364495, f(x)=-6.68403939361184e-05, errx=0.003546239002788276\n",
      "iter=6, x=-1.7692923542973595, f(x)=-4.340705572758452e-10, errx=9.043139090003649e-06\n"
     ]
    }
   ],
   "source": [
    "x1, f1, z, errx, erry, iters, conv = newton_raphson(f,df,-1,tol = 1e-7, maxIter = 100, prt=1)\n"
   ]
  },
  {
   "cell_type": "markdown",
   "id": "6ad81ef4",
   "metadata": {},
   "source": [
    "Se puede obsrevar como nos dio el mismo resultado"
   ]
  }
 ],
 "metadata": {
  "kernelspec": {
   "display_name": "Python 3",
   "language": "python",
   "name": "python3"
  },
  "language_info": {
   "codemirror_mode": {
    "name": "ipython",
    "version": 3
   },
   "file_extension": ".py",
   "mimetype": "text/x-python",
   "name": "python",
   "nbconvert_exporter": "python",
   "pygments_lexer": "ipython3",
   "version": "3.11.9"
  }
 },
 "nbformat": 4,
 "nbformat_minor": 5
}
