{
 "cells": [
  {
   "cell_type": "code",
   "execution_count": 1,
   "id": "b6dbf639",
   "metadata": {},
   "outputs": [],
   "source": [
    "using JuMP\n",
    "using HiGHS\n",
    "using Ipopt\n",
    "using Optimization"
   ]
  },
  {
   "cell_type": "code",
   "execution_count": 5,
   "id": "2e5dbe02",
   "metadata": {},
   "outputs": [
    {
     "data": {
      "text/plain": [
       "A JuMP Model\n",
       "├ solver: none\n",
       "├ objective_sense: FEASIBILITY_SENSE\n",
       "├ num_variables: 0\n",
       "├ num_constraints: 0\n",
       "└ Names registered in the model: none"
      ]
     },
     "metadata": {},
     "output_type": "display_data"
    }
   ],
   "source": [
    "model = Model()"
   ]
  },
  {
   "cell_type": "code",
   "execution_count": 6,
   "id": "423b2604",
   "metadata": {},
   "outputs": [
    {
     "data": {
      "text/latex": [
       "$ 50 x_{1,1} + 50 x_{1,2} + 999999999 x_{1,3} + 20 x_{1,4} + 70 x_{2,1} + 40 x_{2,2} + 20 x_{2,3} + 30 x_{2,4} + 90 x_{3,1} + 30 x_{3,2} + 50 x_{3,3} + 99999999 x_{3,4} + 70 x_{4,1} + 20 x_{4,2} + 60 x_{4,3} + 70 x_{4,4} $"
      ],
      "text/plain": [
       "50 x[1,1] + 50 x[1,2] + 999999999 x[1,3] + 20 x[1,4] + 70 x[2,1] + 40 x[2,2] + 20 x[2,3] + 30 x[2,4] + 90 x[3,1] + 30 x[3,2] + 50 x[3,3] + 99999999 x[3,4] + 70 x[4,1] + 20 x[4,2] + 60 x[4,3] + 70 x[4,4]"
      ]
     },
     "metadata": {},
     "output_type": "display_data"
    }
   ],
   "source": [
    "costos = [ \n",
    "    50 50 999999999 20;\n",
    "    70 40 20 30;\n",
    "    90 30 50 99999999;\n",
    "    70 20 60 70\n",
    "]\n",
    "\n",
    "@variable(model, x[1:4, 1:4] >= 0, Bin)\n",
    "\n",
    "@constraint(model, sum(x[1,j] for j in 1:4) == 1)\n",
    "@constraint(model, sum(x[2,j] for j in 1:4) == 1)\n",
    "@constraint(model, sum(x[3,j] for j in 1:4) == 1)\n",
    "@constraint(model, sum(x[4,j] for j in 1:4) == 1)\n",
    "\n",
    "@constraint(model, sum(x[i,1] for i in 1:4) == 1)\n",
    "@constraint(model, sum(x[i,2] for i in 1:4) == 1)\n",
    "@constraint(model, sum(x[i,3] for i in 1:4) == 1)\n",
    "@constraint(model, sum(x[i,4] for i in 1:4) == 1)\n",
    "\n",
    "@objective(model, Min, sum(costos[i,j] * x[i,j] for i in 1:4, j in 1:4))"
   ]
  },
  {
   "cell_type": "code",
   "execution_count": 7,
   "id": "283e44b5",
   "metadata": {},
   "outputs": [
    {
     "name": "stdout",
     "output_type": "stream",
     "text": [
      "Running HiGHS 1.11.0 (git hash: 364c83a51e): Copyright (c) 2025 HiGHS under MIT licence terms\n",
      "MIP  has 8 rows; 16 cols; 32 nonzeros; 16 integer variables (16 binary)\n",
      "Coefficient ranges:\n",
      "  Matrix [1e+00, 1e+00]\n",
      "  Cost   [2e+01, 1e+09]\n",
      "  Bound  [1e+00, 1e+00]\n",
      "  RHS    [1e+00, 1e+00]\n",
      "Presolving model\n",
      "8 rows, 16 cols, 32 nonzeros  0s\n",
      "8 rows, 16 cols, 32 nonzeros  0s\n",
      "Objective function is integral with scale 1\n",
      "\n",
      "Solving MIP model with:\n",
      "   8 rows\n",
      "   16 cols (16 binary, 0 integer, 0 implied int., 0 continuous, 0 domain fixed)\n",
      "   32 nonzeros\n",
      "\n",
      "Src: B => Branching; C => Central rounding; F => Feasibility pump; J => Feasibility jump;\n",
      "     H => Heuristic; L => Sub-MIP; P => Empty MIP; R => Randomized rounding; Z => ZI Round;\n",
      "     I => Shifting; S => Solve LP; T => Evaluate node; U => Unbounded; X => User solution;\n",
      "     z => Trivial zero; l => Trivial lower; u => Trivial upper; p => Trivial point\n",
      "\n",
      "        Nodes      |    B&B Tree     |            Objective Bounds              |  Dynamic Constraints |       Work      \n",
      "Src  Proc. InQueue |  Leaves   Expl. | BestBound       BestSol              Gap |   Cuts   InLp Confl. | LpIters     Time\n",
      "\n",
      " J       0       0         0   0.00%   -inf            1000000199         Large        0      0      0         0     0.0s\n",
      " T       0       0         0   0.00%   0               140              100.00%        0      0      0         7     0.0s\n",
      "         1       0         1 100.00%   140             140                0.00%        0      0      0         7     0.0s\n",
      "\n",
      "Solving report\n",
      "  Status            Optimal\n",
      "  Primal bound      140\n",
      "  Dual bound        140\n",
      "  Gap               0% (tolerance: 0.01%)\n",
      "  P-D integral      0.00458908081055\n",
      "  Solution status   feasible\n",
      "                    140 (objective)\n",
      "                    0 (bound viol.)\n",
      "                    0 (int. viol.)\n",
      "                    0 (row viol.)\n",
      "  Timing            0.03 (total)\n",
      "                    0.00 (presolve)\n",
      "                    0.00 (solve)\n",
      "                    0.00 (postsolve)\n",
      "  Max sub-MIP depth 0\n",
      "  Nodes             1\n",
      "  Repair LPs        0 (0 feasible; 0 iterations)\n",
      "  LP iterations     7 (total)\n",
      "                    0 (strong br.)\n",
      "                    0 (separation)\n",
      "                    0 (heuristics)\n"
     ]
    }
   ],
   "source": [
    "set_optimizer(model, HiGHS.Optimizer)\n",
    "optimize!(model)"
   ]
  },
  {
   "cell_type": "code",
   "execution_count": 8,
   "id": "31ccd4f0",
   "metadata": {},
   "outputs": [
    {
     "name": "stdout",
     "output_type": "stream",
     "text": [
      "x = [-0.0 0.0 0.0 1.0; 0.0 0.0 1.0 0.0; 0.0 1.0 -0.0 0.0; 1.0 -0.0 0.0 0.0]\n",
      "objective value = 140.0"
     ]
    }
   ],
   "source": [
    "# print solution\n",
    "print(\"x = \", value.(x), \"\\n\")\n",
    "\n",
    "print(\"objective value = \", objective_value(model))"
   ]
  }
 ],
 "metadata": {
  "kernelspec": {
   "display_name": "Julia 1.11.6",
   "language": "julia",
   "name": "julia-1.11"
  },
  "language_info": {
   "file_extension": ".jl",
   "mimetype": "application/julia",
   "name": "julia",
   "version": "1.11.6"
  }
 },
 "nbformat": 4,
 "nbformat_minor": 5
}
