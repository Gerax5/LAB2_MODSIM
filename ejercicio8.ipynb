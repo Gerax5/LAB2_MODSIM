{
 "cells": [
  {
   "cell_type": "code",
   "execution_count": 23,
   "id": "403d6638",
   "metadata": {},
   "outputs": [],
   "source": [
    "import numpy as np\n",
    "\n",
    "# funciones\n",
    "def F(x):\n",
    "    x, y, z = x\n",
    "    return np.array([\n",
    "        3*x - np.cos(y*z) - 0.5,\n",
    "        x**2 - 81*(y + 0.1)**2 + np.sin(z) + 1.06,\n",
    "        np.exp(-x*y) + 20*z + (10*np.pi - 3)/3\n",
    "    ])\n",
    "\n",
    "# jacobiano hecho a partir de derivadas parciales\n",
    "def J(x):\n",
    "    x, y, z = x\n",
    "    return np.array([\n",
    "        [3, z*np.sin(y*z), y*np.sin(y*z)],  \n",
    "        [2*x, -162*(y + 0.1), np.cos(z)],   \n",
    "        [-y*np.exp(-x*y), -x*np.exp(-x*y), 20]  \n",
    "    ])\n",
    "\n"
   ]
  },
  {
   "cell_type": "code",
   "execution_count": 24,
   "id": "5f671d69",
   "metadata": {},
   "outputs": [],
   "source": [
    "# Newton multidimensional\n",
    "\n",
    "def newton_multidimensional(F, J, x0, tol=1e-7, max_iter=100):\n",
    "    x = x0.copy()\n",
    "    history = [x0]\n",
    "    \n",
    "    for _ in range(max_iter):\n",
    "        Fx = F(x)\n",
    "        Jx = J(x)\n",
    "        \n",
    "        # Resolver J(x) * delta = -F(x)\n",
    "        delta = np.linalg.solve(Jx, -Fx)\n",
    "        x_new = x + delta\n",
    "        \n",
    "        history.append(x_new)\n",
    "        \n",
    "        # Criterio de parada\n",
    "        if np.linalg.norm(delta) < tol:\n",
    "            break\n",
    "            \n",
    "        x = x_new\n",
    "    \n",
    "    return x, history"
   ]
  },
  {
   "cell_type": "code",
   "execution_count": 25,
   "id": "7aa89d08",
   "metadata": {},
   "outputs": [
    {
     "name": "stdout",
     "output_type": "stream",
     "text": [
      "Número de aproximaciones: 6\n",
      "Aproximaciones:\n",
      "Iter 0: x = [0. 0. 0.]\n",
      "Iter 1: x = [ 0.5        -0.01688881 -0.52359878]\n",
      "Iter 2: x = [ 0.50001569  0.00172004 -0.52355363]\n",
      "Iter 3: x = [ 5.00000133e-01  1.45705209e-05 -5.23598394e-01]\n",
      "Iter 4: x = [ 5.00000000e-01  1.06342780e-09 -5.23598776e-01]\n",
      "Iter 5: x = [ 5.00000000e-01 -8.87897117e-19 -5.23598776e-01]\n",
      "Solución óptima (x*): [ 5.00000000e-01  1.06342780e-09 -5.23598776e-01]\n"
     ]
    }
   ],
   "source": [
    "# Punto inicial \n",
    "x0 = np.array([0.0, 0.0, 0.0])\n",
    "x_opt, aproximaciones = newton_multidimensional(F, J, x0)\n",
    "\n",
    "# Resultados\n",
    "print(f\"Número de aproximaciones: {len(aproximaciones)}\")\n",
    "print(\"Aproximaciones:\")\n",
    "for i, x in enumerate(aproximaciones):\n",
    "    print(f\"Iter {i}: x = {x}\")\n",
    "print(f\"Solución óptima (x*): {x_opt}\")"
   ]
  }
 ],
 "metadata": {
  "kernelspec": {
   "display_name": "Python 3",
   "language": "python",
   "name": "python3"
  },
  "language_info": {
   "codemirror_mode": {
    "name": "ipython",
    "version": 3
   },
   "file_extension": ".py",
   "mimetype": "text/x-python",
   "name": "python",
   "nbconvert_exporter": "python",
   "pygments_lexer": "ipython3",
   "version": "3.12.2"
  }
 },
 "nbformat": 4,
 "nbformat_minor": 5
}
