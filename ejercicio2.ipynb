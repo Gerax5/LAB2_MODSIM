{
 "cells": [
  {
   "cell_type": "code",
   "execution_count": 22,
   "id": "b6dbf639",
   "metadata": {},
   "outputs": [],
   "source": [
    "using JuMP\n",
    "using HiGHS\n",
    "using Ipopt\n",
    "using Optimization"
   ]
  },
  {
   "cell_type": "code",
   "execution_count": 23,
   "id": "2e5dbe02",
   "metadata": {},
   "outputs": [
    {
     "data": {
      "text/plain": [
       "A JuMP Model\n",
       "├ solver: none\n",
       "├ objective_sense: FEASIBILITY_SENSE\n",
       "├ num_variables: 0\n",
       "├ num_constraints: 0\n",
       "└ Names registered in the model: none"
      ]
     },
     "metadata": {},
     "output_type": "display_data"
    }
   ],
   "source": [
    "model = Model()"
   ]
  },
  {
   "cell_type": "code",
   "execution_count": 24,
   "id": "423b2604",
   "metadata": {},
   "outputs": [
    {
     "data": {
      "text/latex": [
       "$ 3 x_{1,1} + 8 x_{1,2} + 2 x_{1,3} + 10 x_{1,4} + 3 x_{1,5} + 3 x_{1,6} + 9 x_{1,7} + 2 x_{2,1} + 2 x_{2,2} + 7 x_{2,3} + 6 x_{2,4} + 5 x_{2,5} + 2 x_{2,6} + 7 x_{2,7} + 5 x_{3,1} + 6 x_{3,2} + 4 x_{3,3} + 5 x_{3,4} + 6 x_{3,5} + 6 x_{3,6} + 6 x_{3,7} + 4 x_{4,1} + 2 x_{4,2} + 7 x_{4,3} + 5 x_{4,4} + 9 x_{4,5} + 4 x_{4,6} + 7 x_{4,7} + 10 x_{5,1} + 3 x_{5,2} + 8 x_{5,3} + 4 x_{5,4} + 2 x_{5,5} + 3 x_{5,6} + 5 x_{5,7} + 3 x_{6,1} + 5 x_{6,2} + 4 x_{6,3} + 2 x_{6,4} + 3 x_{6,5} + 7 x_{6,6} + 8 x_{6,7} $"
      ],
      "text/plain": [
       "3 x[1,1] + 8 x[1,2] + 2 x[1,3] + 10 x[1,4] + 3 x[1,5] + 3 x[1,6] + 9 x[1,7] + 2 x[2,1] + 2 x[2,2] + 7 x[2,3] + 6 x[2,4] + 5 x[2,5] + 2 x[2,6] + 7 x[2,7] + 5 x[3,1] + 6 x[3,2] + 4 x[3,3] + 5 x[3,4] + 6 x[3,5] + 6 x[3,6] + 6 x[3,7] + 4 x[4,1] + 2 x[4,2] + 7 x[4,3] + 5 x[4,4] + 9 x[4,5] + 4 x[4,6] + 7 x[4,7] + 10 x[5,1] + 3 x[5,2] + 8 x[5,3] + 4 x[5,4] + 2 x[5,5] + 3 x[5,6] + 5 x[5,7] + 3 x[6,1] + 5 x[6,2] + 4 x[6,3] + 2 x[6,4] + 3 x[6,5] + 7 x[6,6] + 8 x[6,7]"
      ]
     },
     "metadata": {},
     "output_type": "display_data"
    }
   ],
   "source": [
    "# supuestos \n",
    "# el problema tiene 6 filas/personas\n",
    "# y también se tiene 7 columnas/tareas\n",
    "\n",
    "# El problema es de tipo #tareas > #personas\n",
    "# osea #columnas > #tareas\n",
    "\n",
    "# eso quiere decir que es necesario agregar una \"persona\"\n",
    "# extra (una fila de costo 0)\n",
    "\n",
    "costos = [\n",
    "    3  8  2 10  3  3  9;\n",
    "    2  2  7  6  5  2  7;\n",
    "    5  6  4  5  6  6  6;\n",
    "    4  2  7  5  9  4  7;\n",
    "   10  3  8  4  2  3  5;\n",
    "    3  5  4  2  3  7  8;\n",
    "    0  0  0  0  0  0  0\n",
    "]\n",
    "\n",
    "# variables \n",
    "@variable(model, x[1:7, 1:7] >= 0, Bin)\n",
    "\n",
    "# constraints \n",
    "@constraint(model, sum(x[1,j] for j in 1:7) == 1)\n",
    "@constraint(model, sum(x[2,j] for j in 1:7) == 1)\n",
    "@constraint(model, sum(x[3,j] for j in 1:7) == 1)\n",
    "@constraint(model, sum(x[4,j] for j in 1:7) == 1)\n",
    "@constraint(model, sum(x[5,j] for j in 1:7) == 1)\n",
    "@constraint(model, sum(x[6,j] for j in 1:7) == 1)\n",
    "@constraint(model, sum(x[7,j] for j in 1:7) == 1)\n",
    "\n",
    "@constraint(model, sum(x[i,1] for i in 1:7) == 1)\n",
    "@constraint(model, sum(x[i,2] for i in 1:7) == 1)\n",
    "@constraint(model, sum(x[i,3] for i in 1:7) == 1)\n",
    "@constraint(model, sum(x[i,4] for i in 1:7) == 1)\n",
    "@constraint(model, sum(x[i,5] for i in 1:7) == 1)\n",
    "@constraint(model, sum(x[i,6] for i in 1:7) == 1)\n",
    "@constraint(model, sum(x[i,7] for i in 1:7) == 1)\n",
    "\n",
    "\n",
    "# objective function\n",
    "@objective(model, Min, sum(costos[i,j] * x[i,j] for i in 1:7, j in 1:7))"
   ]
  },
  {
   "cell_type": "code",
   "execution_count": 25,
   "id": "283e44b5",
   "metadata": {},
   "outputs": [
    {
     "name": "stdout",
     "output_type": "stream",
     "text": [
      "Running HiGHS 1.11.0 (git hash: 364c83a51e): Copyright (c) 2025 HiGHS under MIT licence terms\n",
      "MIP  has 14 rows; 49 cols; 98 nonzeros; 49 integer variables (49 binary)\n",
      "Coefficient ranges:\n",
      "  Matrix [1e+00, 1e+00]\n",
      "  Cost   [2e+00, 1e+01]\n",
      "  Bound  [1e+00, 1e+00]\n",
      "  RHS    [1e+00, 1e+00]\n",
      "Presolving model\n",
      "14 rows, 49 cols, 98 nonzeros  0s\n",
      "14 rows, 49 cols, 98 nonzeros  0s\n",
      "Objective function is integral with scale 1\n",
      "\n",
      "Solving MIP model with:\n",
      "   14 rows\n",
      "   49 cols (49 binary, 0 integer, 0 implied int., 0 continuous, 0 domain fixed)\n",
      "   98 nonzeros\n",
      "\n",
      "Src: B => Branching; C => Central rounding; F => Feasibility pump; J => Feasibility jump;\n",
      "     H => Heuristic; L => Sub-MIP; P => Empty MIP; R => Randomized rounding; Z => ZI Round;\n",
      "     I => Shifting; S => Solve LP; T => Evaluate node; U => Unbounded; X => User solution;\n",
      "     z => Trivial zero; l => Trivial lower; u => Trivial upper; p => Trivial point\n",
      "\n",
      "        Nodes      |    B&B Tree     |            Objective Bounds              |  Dynamic Constraints |       Work      \n",
      "Src  Proc. InQueue |  Leaves   Expl. | BestBound       BestSol              Gap |   Cuts   InLp Confl. | LpIters     Time\n",
      "\n",
      " J       0       0         0   0.00%   -inf            28                 Large        0      0      0         0     0.0s\n",
      " T       0       0         0   0.00%   0               15               100.00%        0      0      0        16     0.0s\n",
      "         1       0         1 100.00%   15              15                 0.00%        0      0      0        16     0.0s\n",
      "\n",
      "Solving report\n",
      "  Status            Optimal\n",
      "  Primal bound      15\n",
      "  Dual bound        15\n",
      "  Gap               0% (tolerance: 0.01%)\n",
      "  P-D integral      0.00109791755676\n",
      "  Solution status   feasible\n",
      "                    15 (objective)\n",
      "                    0 (bound viol.)\n",
      "                    0 (int. viol.)\n",
      "                    0 (row viol.)\n",
      "  Timing            0.02 (total)\n",
      "                    0.00 (presolve)\n",
      "                    0.00 (solve)\n",
      "                    0.00 (postsolve)\n",
      "  Max sub-MIP depth 0\n",
      "  Nodes             1\n",
      "  Repair LPs        0 (0 feasible; 0 iterations)\n",
      "  LP iterations     16 (total)\n",
      "                    0 (strong br.)\n",
      "                    0 (separation)\n",
      "                    0 (heuristics)\n"
     ]
    }
   ],
   "source": [
    "set_optimizer(model, HiGHS.Optimizer)\n",
    "optimize!(model)"
   ]
  },
  {
   "cell_type": "code",
   "execution_count": 26,
   "id": "31ccd4f0",
   "metadata": {},
   "outputs": [
    {
     "name": "stdout",
     "output_type": "stream",
     "text": [
      "x = [0.0 0.0 1.0 0.0 -0.0 -0.0 0.0; 0.0 0.0 0.0 0.0 0.0 1.0 0.0; 1.0 0.0 -0.0 -0.0 0.0 0.0 0.0; 0.0 1.0 0.0 0.0 0.0 0.0 0.0; 0.0 0.0 0.0 0.0 1.0 0.0 0.0; 0.0 0.0 0.0 1.0 0.0 0.0 0.0; -0.0 -0.0 0.0 0.0 0.0 0.0 1.0]\n",
      "0.0   0.0   1.0   0.0   -0.0   -0.0   0.0   \n",
      "0.0   0.0   0.0   0.0   0.0   1.0   0.0   \n",
      "1.0   0.0   -0.0   -0.0   0.0   0.0   0.0   \n",
      "0.0   1.0   0.0   0.0   0.0   0.0   0.0   \n",
      "0.0   0.0   0.0   0.0   1.0   0.0   0.0   \n",
      "0.0   0.0   0.0   1.0   0.0   0.0   0.0   \n",
      "-0.0   -0.0   0.0   0.0   0.0   0.0   1.0   \n",
      "objective value = 15.0\n",
      "\n",
      "Asignaciones\n",
      "Persona 1 → Tarea 3 (Costo: 2)\n",
      "Persona 2 → Tarea 6 (Costo: 2)\n",
      "Persona 3 → Tarea 1 (Costo: 5)\n",
      "Persona 4 → Tarea 2 (Costo: 2)\n",
      "Persona 5 → Tarea 5 (Costo: 2)\n",
      "Persona 6 → Tarea 4 (Costo: 2)\n",
      "Persona 7 → Tarea 7 (Costo: 0)\n",
      "\n",
      "=== Costo minimo ===\n",
      "15.0\n",
      "Ya que la persona 7 es la persona que tiene la tarea 7, quiere decir que esa es la atarea que no se va a realizar\n"
     ]
    }
   ],
   "source": [
    "# print solution\n",
    "print(\"x = \", value.(x), \"\\n\")\n",
    "for i in 1:7 \n",
    "\n",
    "    for j in 1:7\n",
    "        print(value(x[i, j]), \"   \")\n",
    "        \n",
    "    end\n",
    "    println()\n",
    "end\n",
    "\n",
    "print(\"objective value = \", objective_value(model))\n",
    "\n",
    "# final assignation\n",
    "println(\"\")\n",
    "println(\"\\nAsignaciones\")\n",
    "for i in 1:7  \n",
    "    for j in 1:7\n",
    "        if value(x[i, j]) == 1.0\n",
    "            println(\"Persona $i → Tarea $j (Costo: $(costos[i, j]))\")\n",
    "        end\n",
    "    end\n",
    "end\n",
    "\n",
    "println(\"\\n=== Costo minimo ===\")\n",
    "println(objective_value(model))\n",
    "println(\"Ya que la persona 7 es la persona que tiene la tarea 7, quiere decir que esa es la atarea que no se va a realizar\")"
   ]
  }
 ],
 "metadata": {
  "kernelspec": {
   "display_name": "Julia 1.11.6",
   "language": "julia",
   "name": "julia-1.11"
  },
  "language_info": {
   "file_extension": ".jl",
   "mimetype": "application/julia",
   "name": "julia",
   "version": "1.11.6"
  }
 },
 "nbformat": 4,
 "nbformat_minor": 5
}
