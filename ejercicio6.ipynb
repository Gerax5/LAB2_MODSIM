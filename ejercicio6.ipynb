{
 "cells": [
  {
   "cell_type": "markdown",
   "id": "99dffedd",
   "metadata": {},
   "source": [
    "Encontrar las reaices de la función: $2x^5 + 3x^4 - 3x^3 - 10x^2 - 4x + 4$.\n",
    "\n",
    "Utilizando algorítmos numéricos"
   ]
  },
  {
   "cell_type": "code",
   "execution_count": 24,
   "id": "22b4d378",
   "metadata": {},
   "outputs": [
    {
     "data": {
      "image/png": "[encoded data removed]",
      "text/plain": [
       "<Figure size 640x480 with 1 Axes>"
      ]
     },
     "metadata": {},
     "output_type": "display_data"
    }
   ],
   "source": [
    "import numpy as np\n",
    "import matplotlib.pyplot as plt\n",
    "\n",
    "def f(x):\n",
    "    return 2*x**5 + 3*x**4 - 3*x**3 - 10*x**2 - 4*x + 4\n",
    "\n",
    "x = np.linspace(-10, 10, 500)\n",
    "plt.plot(x, f(x))\n",
    "plt.axhline(0, color='red', linestyle='--')\n",
    "plt.grid()\n",
    "plt.ylim(-10, 10)\n",
    "plt.show()"
   ]
  },
  {
   "cell_type": "code",
   "execution_count": 25,
   "id": "9ff62589",
   "metadata": {},
   "outputs": [],
   "source": [
    "# importar las funciones que se hicieron para los metodos numericos\n",
    "\n",
    "from NewtonRaphson import newton_raphson\n",
    "from Biseccion import biseccion\n",
    "from Secante import secante"
   ]
  },
  {
   "cell_type": "code",
   "execution_count": 26,
   "id": "d15895bb",
   "metadata": {},
   "outputs": [],
   "source": [
    "# funcion en código y la preimera derivada\n",
    "def f(x):\n",
    "    return 2*x**5 + 3*x**4 - 3*x**3 - 10*x**2 - 4*x + 4\n",
    "\n",
    "def df(x):\n",
    "    return 10*x**4 + 12*x**3 - 9*x**2 - 20*x - 4\n"
   ]
  },
  {
   "cell_type": "markdown",
   "id": "af954219",
   "metadata": {},
   "source": [
    "### Como se ve en geogebra\n",
    "\n",
    "Aquí se puede ver la gráfica en geogebra con sus respectivas raíces, así sabemos cuantas raíces hay y su valor para corroborar las soluciones del algoritmo numérico.\n",
    "\n",
    "![grafica de geogebor](imgs/geogebra.png)"
   ]
  },
  {
   "cell_type": "code",
   "execution_count": 27,
   "id": "0334504e",
   "metadata": {},
   "outputs": [
    {
     "name": "stdout",
     "output_type": "stream",
     "text": [
      "Bisección: raíz 1 ≈ -1.3037028, iteraciones = 24\n",
      "Bisección: raíz 2 ≈ 0.4546076, iteraciones = 25\n",
      "Bisección: raíz 3 ≈ 1.5937399, iteraciones = 24\n"
     ]
    }
   ],
   "source": [
    "# Prueba con metodo de bisección\n",
    "\n",
    "# 1\n",
    "raiz_bisec, _, _, iter_bisec, _ = biseccion(f, a=-2, b=-1, tol=1e-7)\n",
    "print(f\"Bisección: raíz 1 ≈ {raiz_bisec:.7f}, iteraciones = {iter_bisec}\")\n",
    "\n",
    "# 2\n",
    "raiz_bisec, _, _, iter_bisec, _ = biseccion(f, a=-1, b=1, tol=1e-7)\n",
    "print(f\"Bisección: raíz 2 ≈ {raiz_bisec:.7f}, iteraciones = {iter_bisec}\")\n",
    "\n",
    "# 3\n",
    "\n",
    "raiz_bisec, _, _, iter_bisec, _ = biseccion(f, a=1, b=2, tol=1e-7)\n",
    "print(f\"Bisección: raíz 3 ≈ {raiz_bisec:.7f}, iteraciones = {iter_bisec}\")\n"
   ]
  },
  {
   "cell_type": "code",
   "execution_count": 28,
   "id": "2cf8c9b8",
   "metadata": {},
   "outputs": [
    {
     "name": "stdout",
     "output_type": "stream",
     "text": [
      "Newton: raíz 1 ≈ -1.3037028, iteraciones = 5\n",
      "Newton: raíz 2 ≈ 0.4546076, iteraciones = 4\n",
      "Newton: raíz 2 ≈ 1.5937399, iteraciones = 4\n"
     ]
    }
   ],
   "source": [
    "# Newton-Raphson\n",
    "# 1\n",
    "raiz_newton, _, _, _, _, iter_newton, _ = newton_raphson(f, df, x0=-2, tol=1e-7)\n",
    "print(f\"Newton: raíz 1 ≈ {raiz_newton:.7f}, iteraciones = {iter_newton}\")\n",
    "\n",
    "# 2\n",
    "raiz_newton, _, _, _, _, iter_newton, _ = newton_raphson(f, df, x0=1, tol=1e-7)\n",
    "print(f\"Newton: raíz 2 ≈ {raiz_newton:.7f}, iteraciones = {iter_newton}\")\n",
    "\n",
    "# 3\n",
    "raiz_newton, _, _, _, _, iter_newton, _ = newton_raphson(f, df, x0=2, tol=1e-7)\n",
    "print(f\"Newton: raíz 2 ≈ {raiz_newton:.7f}, iteraciones = {iter_newton}\")"
   ]
  },
  {
   "cell_type": "code",
   "execution_count": 29,
   "id": "7b189c43",
   "metadata": {},
   "outputs": [
    {
     "name": "stdout",
     "output_type": "stream",
     "text": [
      "Secante: raíz ≈ -1.3037028, iteraciones = 6\n",
      "Secante: raíz ≈ 0.4546076, iteraciones = 5\n",
      "Secante: raíz ≈ 1.5937399, iteraciones = 13\n"
     ]
    }
   ],
   "source": [
    "# Secante\n",
    "# 1\n",
    "raiz_sec, _, _, _, _, iter_sec, _ = secante(f, x0=-2, x1=-1, tol=1e-7)\n",
    "print(f\"Secante: raíz ≈ {raiz_sec:.7f}, iteraciones = {iter_sec}\")\n",
    "\n",
    "# 2\n",
    "raiz_sec, _, _, _, _, iter_sec, _ = secante(f, x0=0, x1=1, tol=1e-7)\n",
    "print(f\"Secante: raíz ≈ {raiz_sec:.7f}, iteraciones = {iter_sec}\")\n",
    "\n",
    "# 3\n",
    "raiz_sec, _, _, _, _, iter_sec, _ = secante(f, x0=1, x1=2, tol=1e-7)\n",
    "print(f\"Secante: raíz ≈ {raiz_sec:.7f}, iteraciones = {iter_sec}\")\n",
    "\n"
   ]
  }
 ],
 "metadata": {
  "kernelspec": {
   "display_name": "Python 3",
   "language": "python",
   "name": "python3"
  },
  "language_info": {
   "codemirror_mode": {
    "name": "ipython",
    "version": 3
   },
   "file_extension": ".py",
   "mimetype": "text/x-python",
   "name": "python",
   "nbconvert_exporter": "python",
   "pygments_lexer": "ipython3",
   "version": "3.12.2"
  }
 },
 "nbformat": 4,
 "nbformat_minor": 5
}
