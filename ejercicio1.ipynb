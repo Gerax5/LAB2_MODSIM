{
 "cells": [
  {
   "cell_type": "markdown",
   "id": "0b956add",
   "metadata": {},
   "source": [
    "## A y B"
   ]
  },
  {
   "cell_type": "code",
   "execution_count": 22,
   "id": "010f3c2c",
   "metadata": {},
   "outputs": [
    {
     "data": {
      "text/plain": [
       "0.1"
      ]
     },
     "metadata": {},
     "output_type": "display_data"
    }
   ],
   "source": [
    "using JuMP\n",
    "using HiGHS\n",
    "\n",
    "# Crear modelo con solver GLPK\n",
    "model = Model()\n",
    "\n",
    "# Datos millones de galones\n",
    "capacidades = [6.0, 5.0, 8.0]\n",
    "demandas = [4.0, 8.0, 7.0]\n",
    "\n",
    "distancias = [\n",
    "    120.0  180.0    NaN;\n",
    "    300.0  100.0   80.0;\n",
    "    200.0  250.0  120.0\n",
    "]\n",
    "\n",
    "costo_unitario = 0.10"
   ]
  },
  {
   "cell_type": "code",
   "execution_count": 23,
   "id": "d63599b7",
   "metadata": {},
   "outputs": [],
   "source": [
    "@variable(model, x[1:3, 1:3] >= 0)\n",
    "\n",
    "# (donde no hay conexión)\n",
    "for i in 1:3, j in 1:3\n",
    "    if isnan(distancias[i,j])\n",
    "        fix(x[i,j], 0.0; force=true)\n",
    "    end\n",
    "end\n",
    "\n",
    "# Función objetivo\n",
    "@objective(model, Min, sum((distancias[i,j] * costo_unitario * 1000) * x[i,j]\n",
    "        for i in 1:3, j in 1:3 if !isnan(distancias[i,j])))\n",
    "\n",
    "# Restricciones de capacidad\n",
    "for i in 1:3\n",
    "    @constraint(model, sum(x[i,j] for j in 1:3) <= capacidades[i])\n",
    "end\n",
    "\n",
    "# Restricciones de demanda\n",
    "for j in 1:3\n",
    "    @constraint(model, sum(x[i,j] for i in 1:3) >= demandas[j])\n",
    "end"
   ]
  },
  {
   "cell_type": "code",
   "execution_count": 24,
   "id": "8c81b1b0",
   "metadata": {},
   "outputs": [
    {
     "name": "stdout",
     "output_type": "stream",
     "text": [
      "Running HiGHS 1.11.0 (git hash: 364c83a51e): Copyright (c) 2025 HiGHS under MIT licence terms\n",
      "LP   has 6 rows; 9 cols; 18 nonzeros\n",
      "Coefficient ranges:\n",
      "  Matrix [1e+00, 1e+00]\n",
      "  Cost   [8e+03, 3e+04]\n",
      "  Bound  [0e+00, 0e+00]\n",
      "  RHS    [4e+00, 8e+00]\n",
      "Presolving model\n",
      "6 rows, 8 cols, 16 nonzeros  0s\n",
      "6 rows, 8 cols, 16 nonzeros  0s\n",
      "Presolve : Reductions: rows 6(-0); columns 8(-1); elements 16(-2)\n",
      "Solving the presolved LP\n",
      "Using EKK dual simplex solver - serial\n",
      "  Iteration        Objective     Infeasibilities num(sum)\n",
      "          0     0.0000000000e+00 Pr: 3(19) 0s\n",
      "          6     2.4300000000e+05 Pr: 0(0) 0s\n",
      "Solving the original LP from the solution after postsolve\n",
      "Model status        : Optimal\n",
      "Simplex   iterations: 6\n",
      "Objective value     :  2.4300000000e+05\n",
      "P-D objective error :  0.0000000000e+00\n",
      "HiGHS run time      :          0.00\n"
     ]
    }
   ],
   "source": [
    "set_optimizer(model, HiGHS.Optimizer)\n",
    "optimize!(model)"
   ]
  },
  {
   "cell_type": "code",
   "execution_count": 25,
   "id": "9494db01",
   "metadata": {},
   "outputs": [
    {
     "name": "stdout",
     "output_type": "stream",
     "text": [
      "Estado: OPTIMAL\n",
      "Costo total: $243000.0\n",
      "x[1,1] = 4.0 millones de galones\n",
      "x[1,2] = 2.0 millones de galones\n",
      "x[1,3] = 0.0 millones de galones\n",
      "x[2,1] = 0.0 millones de galones\n",
      "x[2,2] = 5.0 millones de galones\n",
      "x[2,3] = 0.0 millones de galones\n",
      "x[3,1] = 0.0 millones de galones\n",
      "x[3,2] = 1.0 millones de galones\n",
      "x[3,3] = 7.0 millones de galones\n"
     ]
    }
   ],
   "source": [
    "println(\"Estado: \", termination_status(model))\n",
    "println(\"Costo total: \\$\", objective_value(model))\n",
    "\n",
    "for i in 1:3, j in 1:3\n",
    "    println(\"x[$i,$j] = \", value(x[i,j]), \" millones de galones\")\n",
    "end\n"
   ]
  },
  {
   "cell_type": "markdown",
   "id": "cea70f2b",
   "metadata": {},
   "source": [
    "## C"
   ]
  },
  {
   "cell_type": "code",
   "execution_count": 26,
   "id": "530209ca",
   "metadata": {},
   "outputs": [
    {
     "data": {
      "text/plain": [
       "3-element Vector{Float64}:\n",
       " 4.0\n",
       " 8.0\n",
       " 4.0"
      ]
     },
     "metadata": {},
     "output_type": "display_data"
    }
   ],
   "source": [
    "# Datos actualizados\n",
    "\n",
    "model2 = Model()\n",
    "capacidades = [6.0, 5.0, 8.0]\n",
    "demandas = [4.0, 8.0, 4.0]"
   ]
  },
  {
   "cell_type": "code",
   "execution_count": null,
   "id": "311156ad",
   "metadata": {},
   "outputs": [
    {
     "data": {
      "text/plain": [
       "2-element Vector{VariableRef}:\n",
       " e[1]\n",
       " e[2]"
      ]
     },
     "metadata": {},
     "output_type": "display_data"
    }
   ],
   "source": [
    "# Costo de transporte por camión (por galón)\n",
    "costo_excedente = [0.015, 0.022]\n",
    "\n",
    "# Variables de decisión x[i,j]: cantidad enviada de refinería i a área j\n",
    "@variable(model2, x[1:3, 1:3] >= 0)\n",
    "\n",
    "# Variables para excedente enviado por camión desde refinerías 1 y 2\n",
    "@variable(model2, e[1:2] >= 0)\n",
    "\n"
   ]
  },
  {
   "cell_type": "code",
   "execution_count": null,
   "id": "6aabb954",
   "metadata": {},
   "outputs": [],
   "source": [
    "\n",
    "# (donde no hay conexión)\n",
    "for i in 1:3, j in 1:3\n",
    "    if isnan(distancias[i,j])\n",
    "        fix(x[i,j], 0.0; force=true)\n",
    "    end\n",
    "end\n",
    "\n",
    "# Función objetivo\n",
    "@objective(model2, Min,\n",
    "    sum((distancias[i,j] * costo_unitario * 1000) * x[i,j] for i in 1:3, j in 1:3 if !isnan(distancias[i,j])) + \n",
    "    costo_excedente[1] * e[1] * 1_000_000 + costo_excedente[2] * e[2] * 1_000_000\n",
    ")\n",
    "\n",
    "# Restricciones de capacidad \n",
    "@constraint(model2, sum(x[1,j] for j in 1:3) + e[1] <= capacidades[1])\n",
    "@constraint(model2, sum(x[2,j] for j in 1:3) + e[2] <= capacidades[2])\n",
    "@constraint(model2, sum(x[3,j] for j in 1:3) <= capacidades[3])  # refinería 3 sin excedente externo\n",
    "\n",
    "# Restricciones de demanda \n",
    "for j in 1:3\n",
    "    @constraint(model2, sum(x[i,j] for i in 1:3) >= demandas[j])\n",
    "end\n"
   ]
  },
  {
   "cell_type": "code",
   "execution_count": 29,
   "id": "59f11af9",
   "metadata": {},
   "outputs": [
    {
     "name": "stdout",
     "output_type": "stream",
     "text": [
      "Running HiGHS 1.11.0 (git hash: 364c83a51e): Copyright (c) 2025 HiGHS under MIT licence terms\n",
      "LP   has 6 rows; 11 cols; 20 nonzeros\n",
      "Coefficient ranges:\n",
      "  Matrix [1e+00, 1e+00]\n",
      "  Cost   [8e+03, 3e+04]\n",
      "  Bound  [0e+00, 0e+00]\n",
      "  RHS    [4e+00, 8e+00]\n",
      "Presolving model\n",
      "6 rows, 8 cols, 16 nonzeros  0s\n",
      "6 rows, 8 cols, 16 nonzeros  0s\n",
      "Presolve : Reductions: rows 6(-0); columns 8(-3); elements 16(-4)\n",
      "Solving the presolved LP\n",
      "Using EKK dual simplex solver - serial\n",
      "  Iteration        Objective     Infeasibilities num(sum)\n",
      "          0     0.0000000000e+00 Pr: 3(16) 0s\n",
      "          6     2.0700000000e+05 Pr: 0(0) 0s\n",
      "Solving the original LP from the solution after postsolve\n",
      "Model status        : Optimal\n",
      "Simplex   iterations: 6\n",
      "Objective value     :  2.0700000000e+05\n",
      "P-D objective error :  0.0000000000e+00\n",
      "HiGHS run time      :          0.00\n"
     ]
    }
   ],
   "source": [
    "\n",
    "set_optimizer(model2, HiGHS.Optimizer)\n",
    "optimize!(model2)\n"
   ]
  },
  {
   "cell_type": "code",
   "execution_count": null,
   "id": "77d95d18",
   "metadata": {},
   "outputs": [
    {
     "name": "stdout",
     "output_type": "stream",
     "text": [
      "Estado: OPTIMAL\n",
      "Costo total: $207000.0\n",
      "x[1,1] = 4.0 millones de galones\n",
      "x[1,2] = 2.0 millones de galones\n",
      "x[1,3] = 0.0 millones de galones\n",
      "x[2,1] = 0.0 millones de galones\n",
      "x[2,2] = 5.0 millones de galones\n",
      "x[2,3] = 0.0 millones de galones\n",
      "x[3,1] = 0.0 millones de galones\n",
      "x[3,2] = 1.0 millones de galones\n",
      "x[3,3] = 4.0 millones de galones\n",
      "Excedente Refinería 1 (camión): 0.0 millones de galones\n",
      "Excedente Refinería 2 (camión): 0.0 millones de galones\n"
     ]
    }
   ],
   "source": [
    "\n",
    "# Resultados\n",
    "println(\"Estado: \", termination_status(model2))\n",
    "println(\"Costo total: \\$\", objective_value(model2))\n",
    "\n",
    "for i in 1:3, j in 1:3\n",
    "    println(\"x[$i,$j] = \", value(x[i,j]), \" millones de galones\")\n",
    "end\n",
    "\n",
    "println(\"Excedente Refinería 1 (camión): \", value(e[1]), \" millones de galones\")\n",
    "println(\"Excedente Refinería 2 (camión): \", value(e[2]), \" millones de galones\")"
   ]
  }
 ],
 "metadata": {
  "kernelspec": {
   "display_name": "Julia 1.11.6",
   "language": "julia",
   "name": "julia-1.11"
  },
  "language_info": {
   "file_extension": ".jl",
   "mimetype": "application/julia",
   "name": "julia",
   "version": "1.11.6"
  }
 },
 "nbformat": 4,
 "nbformat_minor": 5
}
